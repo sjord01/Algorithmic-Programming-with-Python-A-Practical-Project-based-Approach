{
 "cells": [
  {
   "cell_type": "code",
   "execution_count": 1,
   "id": "dafb3e6c",
   "metadata": {},
   "outputs": [],
   "source": [
    "# Six Small Algorithm Projects\n",
    "# 1.     Trees\n",
    "# 1.2    Node Classes - Binary and N-ary Node Classes - Outline Views"
   ]
  },
  {
   "cell_type": "code",
   "execution_count": 2,
   "id": "651bc3e4",
   "metadata": {},
   "outputs": [],
   "source": [
    "#Create a Binary Node class\n",
    "class BinaryNode:\n",
    "    indent = \"  \"\n",
    "    \n",
    "    def __init__(self, value):\n",
    "        self.value = value\n",
    "        self.left_child = None\n",
    "        self.right_child = None\n",
    "        \n",
    "    def add_left(self, node):\n",
    "        self.left_child = node\n",
    "        \n",
    "    def add_right(self, node):\n",
    "        self.right_child = node\n",
    "        \n",
    "    def __str__(self, level=0):\n",
    "        '''Recursively create a string representation of this node's subtree.\n",
    "        Display this value indented, followed by the left and right values indented one more level.\n",
    "        End in a newline.'''\n",
    "\n",
    "        # Create a string named result that initially holds the\n",
    "        # current node’s value followed by a new line.\n",
    "        result = level * BinaryNode.indent + f'{self.value}:\\n'\n",
    "\n",
    "        # If the node has any children:\n",
    "        if self.left_child or self.right_child:\n",
    "            # If the node has a left child, add None or the child's value.\n",
    "            if self.left_child:\n",
    "                result += self.left_child.__str__(level + 1)\n",
    "            else:\n",
    "                result += (level + 1) * BinaryNode.indent + \"None\\n\"\n",
    "\n",
    "            # If the node has a right child, add None or the child's value.\n",
    "            if self.right_child:\n",
    "                result += self.right_child.__str__(level + 1)\n",
    "            else:\n",
    "                result += (level + 1) * BinaryNode.indent + \"None\\n\"\n",
    "        \n",
    "        #If the node has no children:\n",
    "        return result\n"
   ]
  },
  {
   "cell_type": "code",
   "execution_count": 3,
   "id": "8f31c7c4",
   "metadata": {},
   "outputs": [],
   "source": [
    "# Create a test tree that looks like this:\n",
    "\n",
    "#   Root\n",
    "#   /  \\\n",
    "#  A    B\n",
    "# / \\    \\\n",
    "#C   D    E\n",
    "#        /\n",
    "#       F"
   ]
  },
  {
   "cell_type": "code",
   "execution_count": 4,
   "id": "75c812da",
   "metadata": {},
   "outputs": [
    {
     "name": "stdout",
     "output_type": "stream",
     "text": [
      "Root:\n",
      "  A:\n",
      "    C:\n",
      "    D:\n",
      "  B:\n",
      "    None\n",
      "    E:\n",
      "      F:\n",
      "      None\n",
      "\n"
     ]
    }
   ],
   "source": [
    "# Create nodes and build the tree structure:\n",
    "root = BinaryNode(\"Root\")\n",
    "a = BinaryNode(\"A\")\n",
    "b = BinaryNode(\"B\")\n",
    "c = BinaryNode(\"C\")\n",
    "d = BinaryNode(\"D\")\n",
    "e = BinaryNode(\"E\")\n",
    "f = BinaryNode(\"F\")\n",
    "\n",
    "root.add_left(a)\n",
    "root.add_right(b)\n",
    "a.add_left(c)\n",
    "a.add_right(d)\n",
    "b.add_right(e)\n",
    "e.add_left(f)\n",
    "\n",
    "print(root)"
   ]
  },
  {
   "cell_type": "code",
   "execution_count": 5,
   "id": "25489060",
   "metadata": {},
   "outputs": [],
   "source": [
    "#Create a N-ary Node Class\n",
    "class NaryNode:\n",
    "    indent = '  '  # define the indentation to use for each level\n",
    "\n",
    "    def __init__(self, value, parent=None):\n",
    "        self.value = value\n",
    "        self.parent = parent\n",
    "        self.children = []\n",
    "        if parent is not None:\n",
    "            parent.add_child(self)\n",
    "\n",
    "    def add_child(self, node):\n",
    "        self.children.append(node)\n",
    "        node.parent = self\n",
    "\n",
    "    def __str__(self, level=0):\n",
    "        '''Recursively create a string representation of this node's subtree.\n",
    "        Display this value indented, followed by the child values indented one more level.\n",
    "        End in a newline.'''\n",
    "        result = level * NaryNode.indent + f'{self.value}:\\n'\n",
    "        for child in self.children:\n",
    "            result += child.__str__(level + 1)\n",
    "        return result"
   ]
  },
  {
   "cell_type": "code",
   "execution_count": 6,
   "id": "338674f7",
   "metadata": {},
   "outputs": [],
   "source": [
    "# Create a test tree that looks like this:\n",
    "\n",
    "#  Root\n",
    "#    |\n",
    "# +--+--+\n",
    "# A  B  C\n",
    "# |     |\n",
    "#+-+    +\n",
    "#D E    F\n",
    "#|      |\n",
    "#+     +-+\n",
    "#G     H I"
   ]
  },
  {
   "cell_type": "code",
   "execution_count": 7,
   "id": "57ad86ed",
   "metadata": {},
   "outputs": [
    {
     "name": "stdout",
     "output_type": "stream",
     "text": [
      "Root:\n",
      "  A:\n",
      "    D:\n",
      "      G:\n",
      "    E:\n",
      "  B:\n",
      "  C:\n",
      "    F:\n",
      "      H:\n",
      "      I:\n",
      "\n"
     ]
    }
   ],
   "source": [
    "# Create the nodes and build tree structure\n",
    "root = NaryNode('Root')\n",
    "a = NaryNode('A', root)\n",
    "b = NaryNode('B', root)\n",
    "c = NaryNode('C', root)\n",
    "d = NaryNode('D', a)\n",
    "e = NaryNode('E', a)\n",
    "f = NaryNode('F', c)\n",
    "g = NaryNode('G', d)\n",
    "h = NaryNode('H', f)\n",
    "i = NaryNode('I', f)\n",
    "\n",
    "print(root)"
   ]
  }
 ],
 "metadata": {
  "kernelspec": {
   "display_name": "Python 3 (ipykernel)",
   "language": "python",
   "name": "python3"
  },
  "language_info": {
   "codemirror_mode": {
    "name": "ipython",
    "version": 3
   },
   "file_extension": ".py",
   "mimetype": "text/x-python",
   "name": "python",
   "nbconvert_exporter": "python",
   "pygments_lexer": "ipython3",
   "version": "3.9.13"
  }
 },
 "nbformat": 4,
 "nbformat_minor": 5
}
