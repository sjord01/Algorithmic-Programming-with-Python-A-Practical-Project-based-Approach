{
 "cells": [
  {
   "cell_type": "code",
   "execution_count": 1,
   "id": "dafb3e6c",
   "metadata": {},
   "outputs": [],
   "source": [
    "# Six Small Algorithm Projects\n",
    "# 1.     Trees\n",
    "# 1.3    Exhaustive Search"
   ]
  },
  {
   "cell_type": "code",
   "execution_count": 2,
   "id": "376a72a0",
   "metadata": {},
   "outputs": [],
   "source": [
    "'''For testing purposes, find_value method takes a node and target value as parameters.\n",
    "The method should search the node’s subtree for the target and print a string indicating\n",
    "whether it found the value.'''\n",
    "def find_value(node, target):\n",
    "    result = node.find_node(target)\n",
    "    if result is not None:\n",
    "        print(f\"Found value {target}\")\n",
    "    else:\n",
    "        print(f\"Value {target} not found\")"
   ]
  },
  {
   "cell_type": "code",
   "execution_count": 3,
   "id": "651bc3e4",
   "metadata": {},
   "outputs": [
    {
     "data": {
      "text/plain": [
       "\"The find_node method starts by examining the current node's value. If the value\\nis equal to the target value, then it returns the current node. If not, it recursively\\ncalls the find_node method of its children (if they exist). If one of the recursive calls\\nreturns a non-None value, then it means that the target value was found in that subtree,\\nso it returns that node. If none of the recursive calls return a non-None value, then the\\ntarget value is not present in this node's subtree, so it returns None.\""
      ]
     },
     "execution_count": 3,
     "metadata": {},
     "output_type": "execute_result"
    }
   ],
   "source": [
    "#Create a Binary Node class\n",
    "class BinaryNode:\n",
    "    indent = \"  \"\n",
    "    \n",
    "    def __init__(self, value):\n",
    "        self.value = value\n",
    "        self.left_child = None\n",
    "        self.right_child = None\n",
    "        \n",
    "    def add_left(self, node):\n",
    "        self.left_child = node\n",
    "        \n",
    "    def add_right(self, node):\n",
    "        self.right_child = node\n",
    "        \n",
    "    def __str__(self, level=0):\n",
    "        '''Recursively create a string representation of this node's subtree.\n",
    "        Display this value indented, followed by the left and right values indented one more level.\n",
    "        End in a newline.'''\n",
    "\n",
    "        # Create a string named result that initially holds the\n",
    "        # current node’s value followed by a new line.\n",
    "        result = level * BinaryNode.indent + f'{self.value}:\\n'\n",
    "\n",
    "        # If the node has any children:\n",
    "        if self.left_child or self.right_child:\n",
    "            # If the node has a left child, add None or the child's value.\n",
    "            if self.left_child:\n",
    "                result += self.left_child.__str__(level + 1)\n",
    "            else:\n",
    "                result += (level + 1) * BinaryNode.indent + \"None\\n\"\n",
    "\n",
    "            # If the node has a right child, add None or the child's value.\n",
    "            if self.right_child:\n",
    "                result += self.right_child.__str__(level + 1)\n",
    "            else:\n",
    "                result += (level + 1) * BinaryNode.indent + \"None\\n\"\n",
    "        \n",
    "        #If the node has no children:\n",
    "        return result\n",
    "\n",
    "    def find_node(self, target):\n",
    "        '''Recursively search the subtree rooted at this node for the target value.\n",
    "        If found, return the node containing the target value, otherwise return None.'''\n",
    "        if self.value == target:\n",
    "            return self\n",
    "        \n",
    "        if self.left_child is not None:\n",
    "            left_result = self.left_child.find_node(target)\n",
    "            if left_result is not None:\n",
    "                return left_result\n",
    "        \n",
    "        if self.right_child is not None:\n",
    "            right_result = self.right_child.find_node(target)\n",
    "            if right_result is not None:\n",
    "                return right_result\n",
    "        \n",
    "        return None\n",
    "    \n",
    "'''The find_node method starts by examining the current node's value. If the value\n",
    "is equal to the target value, then it returns the current node. If not, it recursively\n",
    "calls the find_node method of its children (if they exist). If one of the recursive calls\n",
    "returns a non-None value, then it means that the target value was found in that subtree,\n",
    "so it returns that node. If none of the recursive calls return a non-None value, then the\n",
    "target value is not present in this node's subtree, so it returns None.'''"
   ]
  },
  {
   "cell_type": "code",
   "execution_count": 4,
   "id": "75c812da",
   "metadata": {},
   "outputs": [
    {
     "name": "stdout",
     "output_type": "stream",
     "text": [
      "Root:\n",
      "  A:\n",
      "    C:\n",
      "    D:\n",
      "  B:\n",
      "    None\n",
      "    E:\n",
      "      F:\n",
      "      None\n",
      "\n"
     ]
    }
   ],
   "source": [
    "# Create nodes and build the tree structure:\n",
    "root = BinaryNode(\"Root\")\n",
    "a = BinaryNode(\"A\")\n",
    "b = BinaryNode(\"B\")\n",
    "c = BinaryNode(\"C\")\n",
    "d = BinaryNode(\"D\")\n",
    "e = BinaryNode(\"E\")\n",
    "f = BinaryNode(\"F\")\n",
    "\n",
    "root.add_left(a)\n",
    "root.add_right(b)\n",
    "a.add_left(c)\n",
    "a.add_right(d)\n",
    "b.add_right(e)\n",
    "e.add_left(f)\n",
    "\n",
    "print(root)"
   ]
  },
  {
   "cell_type": "code",
   "execution_count": 5,
   "id": "3d6090dd",
   "metadata": {},
   "outputs": [
    {
     "name": "stdout",
     "output_type": "stream",
     "text": [
      "Found value Root\n",
      "Found value E\n",
      "Found value F\n",
      "Value Q not found\n",
      "Found value F\n"
     ]
    }
   ],
   "source": [
    "# Test the BinaryNode class:\n",
    "# Find some values.\n",
    "find_value(root, 'Root')\n",
    "find_value(root, 'E')\n",
    "find_value(root, 'F')\n",
    "find_value(root, 'Q')\n",
    "\n",
    "# Find F in the B subtree.\n",
    "find_value(b, 'F')"
   ]
  }
 ],
 "metadata": {
  "kernelspec": {
   "display_name": "Python 3 (ipykernel)",
   "language": "python",
   "name": "python3"
  },
  "language_info": {
   "codemirror_mode": {
    "name": "ipython",
    "version": 3
   },
   "file_extension": ".py",
   "mimetype": "text/x-python",
   "name": "python",
   "nbconvert_exporter": "python",
   "pygments_lexer": "ipython3",
   "version": "3.9.13"
  }
 },
 "nbformat": 4,
 "nbformat_minor": 5
}
