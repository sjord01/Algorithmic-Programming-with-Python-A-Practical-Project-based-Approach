{
 "cells": [
  {
   "cell_type": "code",
   "execution_count": 1,
   "id": "dafb3e6c",
   "metadata": {},
   "outputs": [],
   "source": [
    "# Six Small Algorithm Projects\n",
    "# 1.     Trees\n",
    "# 1.1    Node Classes"
   ]
  },
  {
   "cell_type": "code",
   "execution_count": 2,
   "id": "651bc3e4",
   "metadata": {},
   "outputs": [],
   "source": [
    "#Create a Binary Node class\n",
    "class BinaryNode:\n",
    "    def __init__(self, value):\n",
    "        self.value = value\n",
    "        self.left_child = None\n",
    "        self.right_child = None\n",
    "        \n",
    "    def add_left(self, node):\n",
    "        self.left_child = node\n",
    "        \n",
    "    def add_right(self, node):\n",
    "        self.right_child = node\n",
    "        \n",
    "    def __str__(self):\n",
    "        left = str(self.left_child.value) if self.left_child is not None else \"None\"\n",
    "        right = str(self.right_child.value) if self.right_child is not None else \"None\"\n",
    "        return f\"{self.value}:{left}, {right}\""
   ]
  },
  {
   "cell_type": "code",
   "execution_count": 3,
   "id": "8f31c7c4",
   "metadata": {},
   "outputs": [],
   "source": [
    "# Create a test tree that looks like this:\n",
    "\n",
    "#   Root\n",
    "#   /  \\\n",
    "#  A    B\n",
    "# / \\    \\\n",
    "#C   D    E\n",
    "#        /\n",
    "#       F"
   ]
  },
  {
   "cell_type": "code",
   "execution_count": 4,
   "id": "75c812da",
   "metadata": {},
   "outputs": [],
   "source": [
    "# Create nodes\n",
    "root = BinaryNode(\"Root\")\n",
    "node_a = BinaryNode(\"A\")\n",
    "node_b = BinaryNode(\"B\")\n",
    "node_c = BinaryNode(\"C\")\n",
    "node_d = BinaryNode(\"D\")\n",
    "node_e = BinaryNode(\"E\")\n",
    "node_f = BinaryNode(\"F\")\n"
   ]
  },
  {
   "cell_type": "code",
   "execution_count": 5,
   "id": "ba36d61b",
   "metadata": {},
   "outputs": [],
   "source": [
    "# Build tree structure\n",
    "root.add_left(node_a)\n",
    "root.add_right(node_b)\n",
    "node_a.add_left(node_c)\n",
    "node_a.add_right(node_d)\n",
    "node_b.add_right(node_e)\n",
    "node_e.add_left(node_f)"
   ]
  },
  {
   "cell_type": "code",
   "execution_count": 6,
   "id": "e7d2106d",
   "metadata": {},
   "outputs": [
    {
     "name": "stdout",
     "output_type": "stream",
     "text": [
      "Root:A, B\n",
      "A:C, D\n",
      "B:None, E\n",
      "C:None, None\n",
      "D:None, None\n",
      "E:F, None\n",
      "F:None, None\n"
     ]
    }
   ],
   "source": [
    "print(root)\n",
    "print(node_a)\n",
    "print(node_b)\n",
    "print(node_c)\n",
    "print(node_d)\n",
    "print(node_e)\n",
    "print(node_f)"
   ]
  },
  {
   "cell_type": "code",
   "execution_count": 7,
   "id": "25489060",
   "metadata": {},
   "outputs": [],
   "source": [
    "#Create a N-ary Node Class\n",
    "class NaryNode:\n",
    "    def __init__(self, value, parent=None):\n",
    "        self.value = value\n",
    "        self.parent = parent\n",
    "        self.children = []\n",
    "        if parent is not None:\n",
    "            parent.add_child(self)\n",
    "\n",
    "    def add_child(self, node):\n",
    "        self.children.append(node)\n",
    "        node.parent = self\n",
    "        \n",
    "    def __str__(self):\n",
    "        child_values = [str(child.value) for child in self.children]\n",
    "        return f\"{self.value}: {' '.join(child_values)}\""
   ]
  },
  {
   "cell_type": "code",
   "execution_count": 8,
   "id": "338674f7",
   "metadata": {},
   "outputs": [],
   "source": [
    "# Create a test tree that looks like this:\n",
    "\n",
    "#  Root\n",
    "#    |\n",
    "# +--+--+\n",
    "# A  B  C\n",
    "# |     |\n",
    "#+-+    +\n",
    "#D E    F\n",
    "#|      |\n",
    "#+     +-+\n",
    "#G     H I"
   ]
  },
  {
   "cell_type": "code",
   "execution_count": 9,
   "id": "57ad86ed",
   "metadata": {},
   "outputs": [
    {
     "name": "stdout",
     "output_type": "stream",
     "text": [
      "Root: A B C\n",
      "A: D E\n",
      "B: \n",
      "C: F\n",
      "D: G\n",
      "E: \n",
      "F: H I\n",
      "G: \n",
      "H: \n",
      "I: \n"
     ]
    }
   ],
   "source": [
    "# Create the nodes and build tree structure\n",
    "root = NaryNode('Root')\n",
    "a = NaryNode('A', root)\n",
    "b = NaryNode('B', root)\n",
    "c = NaryNode('C', root)\n",
    "d = NaryNode('D', a)\n",
    "e = NaryNode('E', a)\n",
    "f = NaryNode('F', c)\n",
    "g = NaryNode('G', d)\n",
    "h = NaryNode('H', f)\n",
    "i = NaryNode('I', f)\n",
    "\n",
    "print(f\"{root}\\n{a}\\n{b}\\n{c}\\n{d}\\n{e}\\n{f}\\n{g}\\n{h}\\n{i}\")"
   ]
  }
 ],
 "metadata": {
  "kernelspec": {
   "display_name": "Python 3 (ipykernel)",
   "language": "python",
   "name": "python3"
  },
  "language_info": {
   "codemirror_mode": {
    "name": "ipython",
    "version": 3
   },
   "file_extension": ".py",
   "mimetype": "text/x-python",
   "name": "python",
   "nbconvert_exporter": "python",
   "pygments_lexer": "ipython3",
   "version": "3.9.13"
  }
 },
 "nbformat": 4,
 "nbformat_minor": 5
}
