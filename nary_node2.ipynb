{
 "cells": [
  {
   "cell_type": "code",
   "execution_count": 1,
   "id": "dafb3e6c",
   "metadata": {},
   "outputs": [],
   "source": [
    "# Six Small Algorithm Projects\n",
    "# 1.     Trees\n",
    "# 1.2    Outline Views"
   ]
  },
  {
   "cell_type": "code",
   "execution_count": 2,
   "id": "25489060",
   "metadata": {},
   "outputs": [],
   "source": [
    "#Create a N-ary Node Class\n",
    "class NaryNode:\n",
    "    indent = '  '  # define the indentation to use for each level\n",
    "\n",
    "    def __init__(self, value, parent=None):\n",
    "        self.value = value\n",
    "        self.parent = parent\n",
    "        self.children = []\n",
    "        if parent is not None:\n",
    "            parent.add_child(self)\n",
    "\n",
    "    def add_child(self, node):\n",
    "        self.children.append(node)\n",
    "        node.parent = self\n",
    "\n",
    "    def __str__(self, level=0):\n",
    "        '''Recursively create a string representation of this node's subtree.\n",
    "        Display this value indented, followed by the child values indented one more level.\n",
    "        End in a newline.'''\n",
    "        result = level * NaryNode.indent + f'{self.value}:\\n'\n",
    "        for child in self.children:\n",
    "            result += child.__str__(level + 1)\n",
    "        return result"
   ]
  },
  {
   "cell_type": "code",
   "execution_count": 3,
   "id": "338674f7",
   "metadata": {},
   "outputs": [],
   "source": [
    "# Create a test tree that looks like this:\n",
    "\n",
    "#  Root\n",
    "#    |\n",
    "# +--+--+\n",
    "# A  B  C\n",
    "# |     |\n",
    "#+-+    +\n",
    "#D E    F\n",
    "#|      |\n",
    "#+     +-+\n",
    "#G     H I"
   ]
  },
  {
   "cell_type": "code",
   "execution_count": 4,
   "id": "57ad86ed",
   "metadata": {},
   "outputs": [
    {
     "name": "stdout",
     "output_type": "stream",
     "text": [
      "Root:\n",
      "  A:\n",
      "    D:\n",
      "      G:\n",
      "    E:\n",
      "  B:\n",
      "  C:\n",
      "    F:\n",
      "      H:\n",
      "      I:\n",
      "\n"
     ]
    }
   ],
   "source": [
    "# Create the nodes and build tree structure\n",
    "root = NaryNode('Root')\n",
    "a = NaryNode('A', root)\n",
    "b = NaryNode('B', root)\n",
    "c = NaryNode('C', root)\n",
    "d = NaryNode('D', a)\n",
    "e = NaryNode('E', a)\n",
    "f = NaryNode('F', c)\n",
    "g = NaryNode('G', d)\n",
    "h = NaryNode('H', f)\n",
    "i = NaryNode('I', f)\n",
    "\n",
    "print(root)"
   ]
  }
 ],
 "metadata": {
  "kernelspec": {
   "display_name": "Python 3 (ipykernel)",
   "language": "python",
   "name": "python3"
  },
  "language_info": {
   "codemirror_mode": {
    "name": "ipython",
    "version": 3
   },
   "file_extension": ".py",
   "mimetype": "text/x-python",
   "name": "python",
   "nbconvert_exporter": "python",
   "pygments_lexer": "ipython3",
   "version": "3.9.13"
  }
 },
 "nbformat": 4,
 "nbformat_minor": 5
}
