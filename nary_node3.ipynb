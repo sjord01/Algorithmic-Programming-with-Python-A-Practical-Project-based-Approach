{
 "cells": [
  {
   "cell_type": "code",
   "execution_count": 1,
   "id": "dafb3e6c",
   "metadata": {},
   "outputs": [],
   "source": [
    "# Six Small Algorithm Projects\n",
    "# 1.     Trees\n",
    "# 1.3    Exhaustive Search"
   ]
  },
  {
   "cell_type": "code",
   "execution_count": 2,
   "id": "4367da0d",
   "metadata": {},
   "outputs": [],
   "source": [
    "'''For testing purposes, find_value method takes a node and target value as parameters.\n",
    "The method should search the node’s subtree for the target and print a string indicating\n",
    "whether it found the value.'''\n",
    "def find_value(node, target):\n",
    "    result = node.find_node(target)\n",
    "    if result is not None:\n",
    "        print(f\"Found value {target}\")\n",
    "    else:\n",
    "        print(f\"Value {target} not found\")"
   ]
  },
  {
   "cell_type": "code",
   "execution_count": 3,
   "id": "25489060",
   "metadata": {},
   "outputs": [
    {
     "data": {
      "text/plain": [
       "'The find_node function now loops over the children list and calls the find_node method\\non each child, instead of checking each child node separately with an if statement. This\\nallows it to search all child subtrees instead of just the left and right subtrees in a\\nbinary tree. If the target value is found in any of the subtrees, the function returns the\\nnode containing the value. If the target value is not found in any of the subtrees, the\\nfunction returns None.\\n'"
      ]
     },
     "execution_count": 3,
     "metadata": {},
     "output_type": "execute_result"
    }
   ],
   "source": [
    "#Create a N-ary Node Class\n",
    "class NaryNode:\n",
    "    indent = '  '  # define the indentation to use for each level\n",
    "\n",
    "    def __init__(self, value, parent=None):\n",
    "        self.value = value\n",
    "        self.parent = parent\n",
    "        self.children = []\n",
    "        if parent is not None:\n",
    "            parent.add_child(self)\n",
    "\n",
    "    def add_child(self, node):\n",
    "        self.children.append(node)\n",
    "        node.parent = self\n",
    "\n",
    "    def __str__(self, level=0):\n",
    "        '''Recursively create a string representation of this node's subtree.\n",
    "        Display this value indented, followed by the child values indented one more level.\n",
    "        End in a newline.'''\n",
    "        result = level * NaryNode.indent + f'{self.value}:\\n'\n",
    "        for child in self.children:\n",
    "            result += child.__str__(level + 1)\n",
    "        return result\n",
    "\n",
    "    def find_node(self, target):\n",
    "        '''Recursively search the subtree rooted at this node for the target value.\n",
    "        If found, return the node containing the target value, otherwise return None.'''\n",
    "        if self.value == target:\n",
    "            return self\n",
    "        \n",
    "        for child in self.children:\n",
    "            result = child.find_node(target)\n",
    "            if result is not None:\n",
    "                return result\n",
    "        \n",
    "        return None\n",
    "    \n",
    "'''The find_node function now loops over the children list and calls the find_node method\n",
    "on each child, instead of checking each child node separately with an if statement. This\n",
    "allows it to search all child subtrees instead of just the left and right subtrees in a\n",
    "binary tree. If the target value is found in any of the subtrees, the function returns the\n",
    "node containing the value. If the target value is not found in any of the subtrees, the\n",
    "function returns None.\n",
    "'''"
   ]
  },
  {
   "cell_type": "code",
   "execution_count": 4,
   "id": "338674f7",
   "metadata": {},
   "outputs": [],
   "source": [
    "# Create a test tree that looks like this:\n",
    "\n",
    "#  Root\n",
    "#    |\n",
    "# +--+--+\n",
    "# A  B  C\n",
    "# |     |\n",
    "#+-+    +\n",
    "#D E    F\n",
    "#|      |\n",
    "#+     +-+\n",
    "#G     H I"
   ]
  },
  {
   "cell_type": "code",
   "execution_count": 5,
   "id": "57ad86ed",
   "metadata": {},
   "outputs": [
    {
     "name": "stdout",
     "output_type": "stream",
     "text": [
      "Root:\n",
      "  A:\n",
      "    D:\n",
      "      G:\n",
      "    E:\n",
      "  B:\n",
      "  C:\n",
      "    F:\n",
      "      H:\n",
      "      I:\n",
      "\n"
     ]
    }
   ],
   "source": [
    "# Create the nodes and build tree structure\n",
    "root = NaryNode('Root')\n",
    "a = NaryNode('A', root)\n",
    "b = NaryNode('B', root)\n",
    "c = NaryNode('C', root)\n",
    "d = NaryNode('D', a)\n",
    "e = NaryNode('E', a)\n",
    "f = NaryNode('F', c)\n",
    "g = NaryNode('G', d)\n",
    "h = NaryNode('H', f)\n",
    "i = NaryNode('I', f)\n",
    "\n",
    "print(root)"
   ]
  },
  {
   "cell_type": "code",
   "execution_count": 6,
   "id": "b6e8b7e4",
   "metadata": {},
   "outputs": [
    {
     "name": "stdout",
     "output_type": "stream",
     "text": [
      "Found value Root\n",
      "Found value E\n",
      "Found value F\n",
      "Value Q not found\n",
      "Found value F\n"
     ]
    }
   ],
   "source": [
    "# Find some values.\n",
    "find_value(root, 'Root')\n",
    "find_value(root, 'E')\n",
    "find_value(root, 'F')\n",
    "find_value(root, 'Q')\n",
    "\n",
    "# Find F in the C subtree.\n",
    "find_value(c, 'F')"
   ]
  }
 ],
 "metadata": {
  "kernelspec": {
   "display_name": "Python 3 (ipykernel)",
   "language": "python",
   "name": "python3"
  },
  "language_info": {
   "codemirror_mode": {
    "name": "ipython",
    "version": 3
   },
   "file_extension": ".py",
   "mimetype": "text/x-python",
   "name": "python",
   "nbconvert_exporter": "python",
   "pygments_lexer": "ipython3",
   "version": "3.9.13"
  }
 },
 "nbformat": 4,
 "nbformat_minor": 5
}
