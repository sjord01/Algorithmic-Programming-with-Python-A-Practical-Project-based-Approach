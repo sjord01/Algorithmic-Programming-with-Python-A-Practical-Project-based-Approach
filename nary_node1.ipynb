{
 "cells": [
  {
   "cell_type": "code",
   "execution_count": 1,
   "id": "dafb3e6c",
   "metadata": {},
   "outputs": [],
   "source": [
    "# Six Small Algorithm Projects\n",
    "# 1.     Trees\n",
    "# 1.1    Node Classes"
   ]
  },
  {
   "cell_type": "code",
   "execution_count": 2,
   "id": "25489060",
   "metadata": {},
   "outputs": [],
   "source": [
    "#Create a N-ary Node Class\n",
    "class NaryNode:\n",
    "    def __init__(self, value, parent=None):\n",
    "        self.value = value\n",
    "        self.parent = parent\n",
    "        self.children = []\n",
    "        if parent is not None:\n",
    "            parent.add_child(self)\n",
    "\n",
    "    def add_child(self, node):\n",
    "        self.children.append(node)\n",
    "        node.parent = self\n",
    "        \n",
    "    def __str__(self):\n",
    "        child_values = [str(child.value) for child in self.children]\n",
    "        return f\"{self.value}: {' '.join(child_values)}\""
   ]
  },
  {
   "cell_type": "code",
   "execution_count": 3,
   "id": "338674f7",
   "metadata": {},
   "outputs": [],
   "source": [
    "# Create a test tree that looks like this:\n",
    "\n",
    "#  Root\n",
    "#    |\n",
    "# +--+--+\n",
    "# A  B  C\n",
    "# |     |\n",
    "#+-+    +\n",
    "#D E    F\n",
    "#|      |\n",
    "#+     +-+\n",
    "#G     H I"
   ]
  },
  {
   "cell_type": "code",
   "execution_count": 4,
   "id": "57ad86ed",
   "metadata": {},
   "outputs": [
    {
     "name": "stdout",
     "output_type": "stream",
     "text": [
      "Root: A B C\n",
      "A: D E\n",
      "B: \n",
      "C: F\n",
      "D: G\n",
      "E: \n",
      "F: H I\n",
      "G: \n",
      "H: \n",
      "I: \n"
     ]
    }
   ],
   "source": [
    "# Create the nodes and build tree structure\n",
    "root = NaryNode('Root')\n",
    "a = NaryNode('A', root)\n",
    "b = NaryNode('B', root)\n",
    "c = NaryNode('C', root)\n",
    "d = NaryNode('D', a)\n",
    "e = NaryNode('E', a)\n",
    "f = NaryNode('F', c)\n",
    "g = NaryNode('G', d)\n",
    "h = NaryNode('H', f)\n",
    "i = NaryNode('I', f)\n",
    "\n",
    "print(f\"{root}\\n{a}\\n{b}\\n{c}\\n{d}\\n{e}\\n{f}\\n{g}\\n{h}\\n{i}\")"
   ]
  }
 ],
 "metadata": {
  "kernelspec": {
   "display_name": "Python 3 (ipykernel)",
   "language": "python",
   "name": "python3"
  },
  "language_info": {
   "codemirror_mode": {
    "name": "ipython",
    "version": 3
   },
   "file_extension": ".py",
   "mimetype": "text/x-python",
   "name": "python",
   "nbconvert_exporter": "python",
   "pygments_lexer": "ipython3",
   "version": "3.9.13"
  }
 },
 "nbformat": 4,
 "nbformat_minor": 5
}
